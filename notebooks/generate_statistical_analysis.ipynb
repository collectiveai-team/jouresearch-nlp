{
  "cells": [
    {
      "cell_type": "markdown",
      "metadata": {},
      "source": [
        "# Generation of NamedEntities"
      ]
    },
    {
      "cell_type": "markdown",
      "metadata": {},
      "source": [
        "## Get the entities with entity frequency of several documents\n",
        "\n",
        "The naming of entities is powered by the [spaCy EntitiyRecognizer capability](https://spacy.io/api/entityrecognizer).\n",
        "\n",
        "What the algorithm aims to provide is all recognized entities with their frequency and the originating recordings. The frequency is here the allover frequency of that term in that its label.\n",
        "What is meant by that? The Entity Recognizer may classify the entity St. Moritz as location and person. In that case, the entities frequency is counted for the label of location and for the labe of person - seperated from each other. \n",
        "\n",
        "\n",
        "A ready-to-use example case:"
      ]
    },
    {
      "cell_type": "code",
      "execution_count": 3,
      "metadata": {},
      "outputs": [
        {
          "data": {
            "text/plain": [
              "NamedEntities(labelled_entities=[EntityLabel(label='MISC', entities=[Entity(name='sächsische', frequency=2, recordings=[1]), Entity(name='Disney+', frequency=2, recordings=[3])]), EntityLabel(label='PER', entities=[Entity(name='Brian E.', frequency=2, recordings=[1]), Entity(name='Matthias B.', frequency=2, recordings=[1]), Entity(name='Justwatch', frequency=5, recordings=[3])]), EntityLabel(label='LOC', entities=[Entity(name='Landgericht Chemnitz', frequency=2, recordings=[1])]), EntityLabel(label='ORG', entities=[Entity(name='Bundestag', frequency=2, recordings=[2])])])"
            ]
          },
          "execution_count": 3,
          "metadata": {},
          "output_type": "execute_result"
        }
      ],
      "source": [
        "import json\n",
        "from jouresearch_nlp.ner.aggregate import get_entities_w_freqs\n",
        "\n",
        "\n",
        "with open(\"../data/examples/ner_text.json\", encoding='utf-8') as file:\n",
        "    data = json.load(file)\n",
        "\n",
        "\n",
        "# Define a percentile to validate the entities by occurence of frequency.\n",
        "# With a percentile of 75 you will only retrieve the entities that are as freqquent as the 25 % of the entities that occur the most often.\n",
        "get_entities_w_freqs(docs=data, percentile=75, language=\"de-DE\")"
      ]
    },
    {
      "cell_type": "code",
      "execution_count": null,
      "metadata": {},
      "outputs": [],
      "source": []
    }
  ],
  "metadata": {
    "kernelspec": {
      "display_name": "Python 3",
      "language": "python",
      "name": "python3"
    },
    "language_info": {
      "codemirror_mode": {
        "name": "ipython",
        "version": 3
      },
      "file_extension": ".py",
      "mimetype": "text/x-python",
      "name": "python",
      "nbconvert_exporter": "python",
      "pygments_lexer": "ipython3",
      "version": "3.8.10"
    }
  },
  "nbformat": 4,
  "nbformat_minor": 0
}
