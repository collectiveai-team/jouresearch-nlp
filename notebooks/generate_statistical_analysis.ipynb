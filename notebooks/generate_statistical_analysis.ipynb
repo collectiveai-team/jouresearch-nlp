{
  "cells": [
    {
      "cell_type": "markdown",
      "metadata": {},
      "source": [
        "# Generation of NamedEntities"
      ]
    },
    {
      "cell_type": "markdown",
      "metadata": {},
      "source": [
        "## Get the entities with entity frequency of several documents\n",
        "\n",
        "The naming of entities is powered by the [spaCy EntitiyRecognizer capability](https://spacy.io/api/entityrecognizer).\n",
        "\n",
        "What the algorithm aims to provide is all recognized entities with their frequency and the originating recordings. The frequency is here the allover frequency of that term in that its label.\n",
        "What is meant by that? The Entity Recognizer may classify the entity St. Moritz as location and person. In that case, the entities frequency is counted for the label of location and for the labe of person - seperated from each other. \n",
        "\n",
        "\n",
        "A ready-to-use example case:"
      ]
    },
    {
      "cell_type": "code",
      "execution_count": 1,
      "metadata": {},
      "outputs": [
        {
          "data": {
            "text/plain": [
              "NamedEntities(labelled_entities=[EntityLabel(label='LOC', entities=[Entity(name='sächsische Justizministerium', frequency=1, recordings=[1]), Entity(name='Landgericht Chemnitz', frequency=2, recordings=[1]), Entity(name='Leipzig-Connewitz', frequency=1, recordings=[1]), Entity(name='III. Wegs', frequency=1, recordings=[1]), Entity(name='Bayern', frequency=1, recordings=[1]), Entity(name='Thüringen', frequency=1, recordings=[1]), Entity(name='Sachsen', frequency=1, recordings=[1]), Entity(name='Nordrhein-Westfalen', frequency=1, recordings=[1]), Entity(name='Infektionsschutzgesetzes', frequency=1, recordings=[2]), Entity(name='Ampel-Koalition', frequency=1, recordings=[2]), Entity(name='Union', frequency=1, recordings=[2]), Entity(name='Abo', frequency=1, recordings=[3]), Entity(name='Streaminganbieter', frequency=1, recordings=[3]), Entity(name='Deutschland', frequency=1, recordings=[3]), Entity(name='Neubereich', frequency=1, recordings=[3]), Entity(name='Hohen Republik', frequency=1, recordings=[4]), Entity(name='Yoda', frequency=1, recordings=[4]), Entity(name='Detroit', frequency=1, recordings=[4])]), EntityLabel(label='PER', entities=[Entity(name='Brian E.', frequency=2, recordings=[1]), Entity(name='Matthias B.', frequency=2, recordings=[1]), Entity(name='B.s Mitreferendaren', frequency=1, recordings=[1]), Entity(name='Justwatch', frequency=3, recordings=[3]), Entity(name='Streamingsuchmaschinen', frequency=1, recordings=[3]), Entity(name='Beate Baumann', frequency=1, recordings=[5]), Entity(name='Angela Merkels', frequency=1, recordings=[5]), Entity(name='Abdurrahman C.', frequency=1, recordings=[6])]), EntityLabel(label='MISC', entities=[Entity(name='Leipziger', frequency=1, recordings=[1]), Entity(name='sächsische', frequency=1, recordings=[1]), Entity(name='ZEIT', frequency=1, recordings=[1]), Entity(name='Ein Neonazi', frequency=1, recordings=[1]), Entity(name='sächsischen', frequency=1, recordings=[1]), Entity(name='Sondersitzung der Länderkammer', frequency=1, recordings=[2]), Entity(name='Ampel-Fraktionen', frequency=1, recordings=[2]), Entity(name='Justwatch', frequency=2, recordings=[3]), Entity(name='Justwatch-Merkliste', frequency=1, recordings=[3]), Entity(name='Abo', frequency=1, recordings=[3]), Entity(name='RTL+', frequency=1, recordings=[3]), Entity(name='Sky Ticket', frequency=1, recordings=[3]), Entity(name='Disney+', frequency=2, recordings=[3]), Entity(name='Werstreamt.es', frequency=1, recordings=[3]), Entity(name='Netflix, Prime Video', frequency=1, recordings=[3]), Entity(name='FSK-Einstufung', frequency=1, recordings=[3]), Entity(name='französische', frequency=1, recordings=[4]), Entity(name='Star Wars Eclipse.', frequency=1, recordings=[4]), Entity(name='Game Awards', frequency=1, recordings=[4]), Entity(name='Eclipse', frequency=1, recordings=[4]), Entity(name='Star Wars', frequency=1, recordings=[4]), Entity(name='Frieden im Outer Rim', frequency=1, recordings=[4]), Entity(name='Outer Rim', frequency=1, recordings=[4]), Entity(name='Kanzlerin', frequency=1, recordings=[5])]), EntityLabel(label='ORG', entities=[Entity(name='NPD', frequency=1, recordings=[1]), Entity(name='Neonazi-Kameradschaft Freies Netz Süd', frequency=1, recordings=[1]), Entity(name='Bundestag', frequency=2, recordings=[2]), Entity(name='FDP', frequency=1, recordings=[2]), Entity(name='AfD', frequency=1, recordings=[2]), Entity(name='TMDB', frequency=1, recordings=[3]), Entity(name='IMDB', frequency=1, recordings=[3]), Entity(name='IMDB-Bewertungen', frequency=1, recordings=[3]), Entity(name='Entwicklerstudio Quantic Dream', frequency=1, recordings=[4]), Entity(name='Heavy Rain', frequency=1, recordings=[4]), Entity(name='Detroit Become Human', frequency=1, recordings=[4]), Entity(name='Lucasfilm Games', frequency=1, recordings=[4]), Entity(name='Jedi', frequency=1, recordings=[4]), Entity(name='Quantic Dream.', frequency=1, recordings=[4]), Entity(name='Hamburger Polizei', frequency=1, recordings=[6])])])"
            ]
          },
          "execution_count": 1,
          "metadata": {},
          "output_type": "execute_result"
        }
      ],
      "source": [
        "import json\n",
        "from jouresearch_nlp.ner.aggregate import get_entities_w_freqs\n",
        "\n",
        "\n",
        "with open(\"../data/examples/ner_text.json\", encoding='utf-8') as file:\n",
        "    data = json.load(file)\n",
        "\n",
        "\n",
        "get_entities_w_freqs(data)"
      ]
    },
    {
      "cell_type": "markdown",
      "metadata": {},
      "source": [
        "The output format is like this:"
      ]
    },
    {
      "cell_type": "markdown",
      "metadata": {},
      "source": []
    },
    {
      "cell_type": "code",
      "execution_count": null,
      "metadata": {},
      "outputs": [],
      "source": []
    }
  ],
  "metadata": {
    "kernelspec": {
      "display_name": "Python 3",
      "language": "python",
      "name": "python3"
    },
    "language_info": {
      "codemirror_mode": {
        "name": "ipython",
        "version": 3
      },
      "file_extension": ".py",
      "mimetype": "text/x-python",
      "name": "python",
      "nbconvert_exporter": "python",
      "pygments_lexer": "ipython3",
      "version": "3.8.10"
    }
  },
  "nbformat": 4,
  "nbformat_minor": 0
}
