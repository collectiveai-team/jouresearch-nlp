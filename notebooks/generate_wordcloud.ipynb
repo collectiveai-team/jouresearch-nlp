{
  "cells": [
    {
      "cell_type": "markdown",
      "metadata": {},
      "source": [
        "# Generation of WordCloud"
      ]
    },
    {
      "cell_type": "markdown",
      "metadata": {},
      "source": [
        "## Option 1: Create a list of the X most frequent words in several documents\n",
        "\n",
        "The use case here is for collections that are working with document entities. The frequency of a single word is calculated over all documents in a single collection. To be able to find the documents corresponding to the words, the id of the documents is as well returned."
      ]
    },
    {
      "cell_type": "code",
      "execution_count": 1,
      "metadata": {},
      "outputs": [
        {
          "data": {
            "text/plain": [
              "[{'word': 'wertvoll', 'frequency': 24, 'doc_id': [5, 8]},\n",
              " {'word': 'spitzen', 'frequency': 4, 'doc_id': [5, 8]},\n",
              " {'word': 'vorzeigekonzern', 'frequency': 3, 'doc_id': [5, 8]},\n",
              " {'word': 'unternehmen', 'frequency': 2, 'doc_id': [5, 8]},\n",
              " {'word': 'land', 'frequency': 2, 'doc_id': [5, 8]},\n",
              " {'word': 'kosten', 'frequency': 2, 'doc_id': [5, 8]},\n",
              " {'word': 'wettbewerbern', 'frequency': 2, 'doc_id': [5, 8]},\n",
              " {'word': 'weltspitze', 'frequency': 2, 'doc_id': [5, 8]},\n",
              " {'word': 'tricksen', 'frequency': 2, 'doc_id': [5, 8]},\n",
              " {'word': 'womöglich', 'frequency': 2, 'doc_id': [5, 8]},\n",
              " {'word': 'unsauber', 'frequency': 2, 'doc_id': [5, 8]},\n",
              " {'word': 'mittel', 'frequency': 2, 'doc_id': [5, 8]},\n",
              " {'word': 'zeigen', 'frequency': 2, 'doc_id': [5, 8]},\n",
              " {'word': 'interne', 'frequency': 2, 'doc_id': [5, 8]},\n",
              " {'word': 'dokument', 'frequency': 2, 'doc_id': [5, 8]},\n",
              " {'word': 'vorliegen', 'frequency': 2, 'doc_id': [5, 8]},\n",
              " {'word': 'belasten', 'frequency': 2, 'doc_id': [5, 8]},\n",
              " {'word': 'spiegel', 'frequency': 1, 'doc_id': [5]}]"
            ]
          },
          "execution_count": 1,
          "metadata": {},
          "output_type": "execute_result"
        }
      ],
      "source": [
        "from jouresearch_nlp.wordcloud.frequency import calculate_freq_over_docs\n",
        "\n",
        "\n",
        "docs = [{\n",
        "    \"text\": \"Das wertvollste wertvollste wertvollste wertvollste wertvollste wertvollste wertvollste wertvollste wertvollste wertvollste wertvollste wertvollste Unternehmen des Landes hat sich auf Kosten von Wettbewerbern an die Weltspitze getrickst, womöglich mit unsauberen Mitteln. Das zeigen interne Dokumente, die dem SPIEGEL vorliegen. Sie belasten den Vorzeigekonzern und seine Spitze.\",\n",
        "    \"id\": 5\n",
        "},\n",
        "{\n",
        "    \"text\": \"Das wertvollste wertvollste wertvollste wertvollste wertvollste wertvollste wertvollste wertvollste wertvollste wertvollste wertvollste wertvollste Unternehmen des Landes hat sich auf Kosten von Wettbewerbern an die Weltspitze getrickst, womöglich mit unsauberen Mitteln. Das zeigen interne Dokumente, die dem vorliegen. Sie belasten den Vorzeigekonzern Vorzeigekonzern und seine Spitze Spitze Spitze.\",\n",
        "    \"id\": 8\n",
        "}\n",
        "]\n",
        "\n",
        "\n",
        "freq_list = calculate_freq_over_docs(docs=docs, wc_threshold=50)\n",
        "freq_list"
      ]
    },
    {
      "cell_type": "markdown",
      "metadata": {},
      "source": [
        "## Option 2: Create a WordCloud layout based on a single text\n",
        "This use case is for analysing a single text corpus. The functionality is mainly provided by the [WordCloud](https://amueller.github.io/word_cloud/) package and delivers a predefined layout with orientation, color and font_size."
      ]
    },
    {
      "cell_type": "code",
      "execution_count": 1,
      "metadata": {},
      "outputs": [
        {
          "data": {
            "text/plain": [
              "WordCloudS(words=[WordS(word='wertvoll', frequency=1.0, font_size=57, position=(116, 101), orientation=None, color='rgb(173, 220, 48)'), WordS(word='unternehmen', frequency=0.08333333333333333, font_size=31, position=(8, 2), orientation=None, color='rgb(70, 10, 93)'), WordS(word='land', frequency=0.08333333333333333, font_size=31, position=(61, 192), orientation=None, color='rgb(72, 28, 110)'), WordS(word='kosten', frequency=0.08333333333333333, font_size=31, position=(27, 271), orientation=None, color='rgb(181, 222, 43)'), WordS(word='wettbewerbern', frequency=0.08333333333333333, font_size=31, position=(164, 48), orientation=None, color='rgb(108, 205, 90)'), WordS(word='weltspitze', frequency=0.08333333333333333, font_size=31, position=(63, 4), orientation=None, color='rgb(99, 203, 95)'), WordS(word='tricksen', frequency=0.08333333333333333, font_size=31, position=(87, 159), orientation=None, color='rgb(41, 121, 142)'), WordS(word='womöglich', frequency=0.08333333333333333, font_size=26, position=(94, 10), orientation=None, color='rgb(99, 203, 95)'), WordS(word='unsauber', frequency=0.08333333333333333, font_size=26, position=(51, 271), orientation=None, color='rgb(56, 88, 140)'), WordS(word='mittel', frequency=0.08333333333333333, font_size=26, position=(93, 371), orientation=2, color='rgb(194, 223, 35)'), WordS(word='zeigen', frequency=0.08333333333333333, font_size=26, position=(125, 3), orientation=None, color='rgb(66, 65, 134)'), WordS(word='interne', frequency=0.08333333333333333, font_size=26, position=(33, 98), orientation=None, color='rgb(31, 148, 140)'), WordS(word='dokument', frequency=0.08333333333333333, font_size=25, position=(1, 275), orientation=None, color='rgb(110, 206, 88)'), WordS(word='spiegel', frequency=0.08333333333333333, font_size=23, position=(33, 1), orientation=None, color='rgb(53, 95, 141)'), WordS(word='vorliegen', frequency=0.08333333333333333, font_size=18, position=(71, 275), orientation=None, color='rgb(66, 190, 113)'), WordS(word='belasten', frequency=0.08333333333333333, font_size=17, position=(166, 291), orientation=None, color='rgb(45, 113, 142)'), WordS(word='vorzeigekonzern', frequency=0.08333333333333333, font_size=10, position=(151, 9), orientation=None, color='rgb(248, 230, 33)'), WordS(word='spitzen', frequency=0.08333333333333333, font_size=10, position=(47, 223), orientation=None, color='rgb(40, 125, 142)'), WordS(word='\\n', frequency=0.08333333333333333, font_size=10, position=(103, 344), orientation=None, color='rgb(139, 214, 70)')])"
            ]
          },
          "execution_count": 1,
          "metadata": {},
          "output_type": "execute_result"
        }
      ],
      "source": [
        "from os import path\n",
        "from jouresearch_nlp.wordcloud.layout import get_freq_dict, get_wordcloud_layout\n",
        "from jouresearch_nlp.utils.parser import tokenizer\n",
        "\n",
        "\n",
        "d = path.dirname(__file__) if \"__file__\" in locals() else os.getcwd()\n",
        "text = open(path.join(d, '../data/examples/alice.txt'), encoding='utf-8')\n",
        "text = text.read()\n",
        "\n",
        "\n",
        "tokens = tokenizer(text)\n",
        "\n",
        "freq_dict = get_freq_dict(tokens)\n",
        "\n",
        "get_wordcloud_layout(freq_dict)"
      ]
    },
    {
      "cell_type": "markdown",
      "metadata": {},
      "source": []
    },
    {
      "cell_type": "code",
      "execution_count": null,
      "metadata": {},
      "outputs": [],
      "source": []
    }
  ],
  "metadata": {
    "kernelspec": {
      "display_name": "Python 3",
      "language": "python",
      "name": "python3"
    },
    "language_info": {
      "codemirror_mode": {
        "name": "ipython",
        "version": 3
      },
      "file_extension": ".py",
      "mimetype": "text/x-python",
      "name": "python",
      "nbconvert_exporter": "python",
      "pygments_lexer": "ipython3",
      "version": "3.8.10"
    }
  },
  "nbformat": 4,
  "nbformat_minor": 0
}
