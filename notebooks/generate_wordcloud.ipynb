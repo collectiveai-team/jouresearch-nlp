{
  "cells": [
    {
      "cell_type": "markdown",
      "metadata": {},
      "source": [
        "# Generation of WordCloud"
      ]
    },
    {
      "cell_type": "markdown",
      "metadata": {},
      "source": [
        "## Option 1: Create a list of the X most frequent words in several documents\n",
        "\n",
        "The use case here is for collections that are working with document entities. The frequency of a single word is calculated over all documents in a single collection. To be able to find the documents corresponding to the words, the id of the documents is as well returned."
      ]
    },
    {
      "cell_type": "code",
      "execution_count": 2,
      "metadata": {},
      "outputs": [
        {
          "data": {
            "text/plain": [
              "[{'word': 'wertvoll', 'frequency': 24, 'doc_id': [5, 8]},\n",
              " {'word': 'spitzen', 'frequency': 4, 'doc_id': [5, 8]},\n",
              " {'word': 'vorzeigekonzern', 'frequency': 3, 'doc_id': [5, 8]},\n",
              " {'word': 'unternehmen', 'frequency': 2, 'doc_id': [5, 8]},\n",
              " {'word': 'land', 'frequency': 2, 'doc_id': [5, 8]},\n",
              " {'word': 'kosten', 'frequency': 2, 'doc_id': [5, 8]},\n",
              " {'word': 'wettbewerbern', 'frequency': 2, 'doc_id': [5, 8]},\n",
              " {'word': 'weltspitze', 'frequency': 2, 'doc_id': [5, 8]},\n",
              " {'word': 'tricksen', 'frequency': 2, 'doc_id': [5, 8]},\n",
              " {'word': 'womöglich', 'frequency': 2, 'doc_id': [5, 8]},\n",
              " {'word': 'unsauber', 'frequency': 2, 'doc_id': [5, 8]},\n",
              " {'word': 'mittel', 'frequency': 2, 'doc_id': [5, 8]},\n",
              " {'word': 'zeigen', 'frequency': 2, 'doc_id': [5, 8]},\n",
              " {'word': 'interne', 'frequency': 2, 'doc_id': [5, 8]},\n",
              " {'word': 'dokument', 'frequency': 2, 'doc_id': [5, 8]},\n",
              " {'word': 'vorliegen', 'frequency': 2, 'doc_id': [5, 8]},\n",
              " {'word': 'belasten', 'frequency': 2, 'doc_id': [5, 8]},\n",
              " {'word': 'spiegel', 'frequency': 1, 'doc_id': [5]}]"
            ]
          },
          "execution_count": 2,
          "metadata": {},
          "output_type": "execute_result"
        }
      ],
      "source": [
        "from jouresearch_nlp.wordcloud.frequency import calculate_freq_over_docs\n",
        "\n",
        "\n",
        "docs = [{\n",
        "    \"text\": \"Das wertvollste wertvollste wertvollste wertvollste wertvollste wertvollste wertvollste wertvollste wertvollste wertvollste wertvollste wertvollste Unternehmen des Landes hat sich auf Kosten von Wettbewerbern an die Weltspitze getrickst, womöglich mit unsauberen Mitteln. Das zeigen interne Dokumente, die dem SPIEGEL vorliegen. Sie belasten den Vorzeigekonzern und seine Spitze.\",\n",
        "    \"id\": 5\n",
        "},\n",
        "{\n",
        "    \"text\": \"Das wertvollste wertvollste wertvollste wertvollste wertvollste wertvollste wertvollste wertvollste wertvollste wertvollste wertvollste wertvollste Unternehmen des Landes hat sich auf Kosten von Wettbewerbern an die Weltspitze getrickst, womöglich mit unsauberen Mitteln. Das zeigen interne Dokumente, die dem vorliegen. Sie belasten den Vorzeigekonzern Vorzeigekonzern und seine Spitze Spitze Spitze.\",\n",
        "    \"id\": 8\n",
        "}\n",
        "]\n",
        "\n",
        "\n",
        "freq_list = calculate_freq_over_docs(docs=docs, wc_threshold=50)\n",
        "freq_list"
      ]
    },
    {
      "cell_type": "markdown",
      "metadata": {},
      "source": [
        "## Option 2: Create a WordCloud layout based on a single text\n",
        "This use case is for analysing a single text corpus. The functionality is mainly provided by the [WordCloud](https://amueller.github.io/word_cloud/) package and delivers a predefined layout with orientation, color and font_size."
      ]
    },
    {
      "cell_type": "code",
      "execution_count": 1,
      "metadata": {},
      "outputs": [
        {
          "data": {
            "text/plain": [
              "WordCloudS(words=[Word(word='wertvoll', frequency=1.0, font_size=57, position=(116, 59), orientation=None, color='rgb(69, 55, 129)'), Word(word='unternehmen', frequency=0.08333333333333333, font_size=31, position=(69, 153), orientation=None, color='rgb(71, 16, 99)'), Word(word='land', frequency=0.08333333333333333, font_size=31, position=(20, 28), orientation=2, color='rgb(70, 48, 126)'), Word(word='kosten', frequency=0.08333333333333333, font_size=31, position=(7, 186), orientation=None, color='rgb(36, 135, 142)'), Word(word='wettbewerbern', frequency=0.08333333333333333, font_size=31, position=(165, 139), orientation=None, color='rgb(231, 228, 25)'), Word(word='weltspitze', frequency=0.08333333333333333, font_size=31, position=(31, 67), orientation=None, color='rgb(42, 176, 127)'), Word(word='tricksen', frequency=0.08333333333333333, font_size=31, position=(95, 4), orientation=None, color='rgb(86, 198, 103)'), Word(word='womöglich', frequency=0.08333333333333333, font_size=31, position=(1, 358), orientation=2, color='rgb(58, 83, 139)'), Word(word='unsauber', frequency=0.08333333333333333, font_size=28, position=(165, 2), orientation=None, color='rgb(53, 95, 141)'), Word(word='mittel', frequency=0.08333333333333333, font_size=28, position=(1, 71), orientation=None, color='rgb(62, 73, 137)'), Word(word='zeigen', frequency=0.08333333333333333, font_size=28, position=(59, 52), orientation=None, color='rgb(103, 204, 92)'), Word(word='interne', frequency=0.08333333333333333, font_size=25, position=(93, 152), orientation=None, color='rgb(36, 134, 142)'), Word(word='dokument', frequency=0.08333333333333333, font_size=21, position=(37, 254), orientation=None, color='rgb(31, 150, 139)'), Word(word='spiegel', frequency=0.08333333333333333, font_size=21, position=(5, 1), orientation=2, color='rgb(234, 229, 26)'), Word(word='vorliegen', frequency=0.08333333333333333, font_size=18, position=(93, 258), orientation=None, color='rgb(134, 213, 73)'), Word(word='belasten', frequency=0.08333333333333333, font_size=17, position=(58, 200), orientation=None, color='rgb(50, 100, 142)'), Word(word='vorzeigekonzern', frequency=0.08333333333333333, font_size=10, position=(186, 9), orientation=None, color='rgb(142, 214, 69)'), Word(word='spitzen', frequency=0.08333333333333333, font_size=10, position=(141, 13), orientation=None, color='rgb(72, 20, 103)'), Word(word='\\n', frequency=0.08333333333333333, font_size=10, position=(141, 334), orientation=None, color='rgb(59, 187, 117)')])"
            ]
          },
          "execution_count": 1,
          "metadata": {},
          "output_type": "execute_result"
        }
      ],
      "source": [
        "from os import path\n",
        "from jouresearch_nlp.wordcloud.layout import get_freq_dict, get_wordcloud_layout\n",
        "from jouresearch_nlp.utils.parser import tokenizer\n",
        "\n",
        "\n",
        "d = path.dirname(__file__) if \"__file__\" in locals() else os.getcwd()\n",
        "text = open(path.join(d, 'alice.txt'), encoding='utf-8')\n",
        "text = text.read()\n",
        "\n",
        "\n",
        "tokens = tokenizer(text)\n",
        "\n",
        "freq_dict = get_freq_dict(tokens)\n",
        "\n",
        "get_wordcloud_layout(freq_dict)"
      ]
    },
    {
      "cell_type": "markdown",
      "metadata": {},
      "source": []
    },
    {
      "cell_type": "code",
      "execution_count": null,
      "metadata": {},
      "outputs": [],
      "source": []
    }
  ],
  "metadata": {
    "kernelspec": {
      "display_name": "Python 3",
      "language": "python",
      "name": "python3"
    },
    "language_info": {
      "codemirror_mode": {
        "name": "ipython",
        "version": 3
      },
      "file_extension": ".py",
      "mimetype": "text/x-python",
      "name": "python",
      "nbconvert_exporter": "python",
      "pygments_lexer": "ipython3",
      "version": "3.8.10"
    }
  },
  "nbformat": 4,
  "nbformat_minor": 0
}
