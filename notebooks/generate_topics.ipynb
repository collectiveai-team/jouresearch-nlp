{
  "cells": [
    {
      "cell_type": "markdown",
      "metadata": {},
      "source": [
        "# Generation of Topics via Topic Modelling"
      ]
    },
    {
      "cell_type": "markdown",
      "metadata": {},
      "source": [
        "## Create a list of topics from several documents\n",
        "\n",
        "The here leveraged pipeline originates from the [bertopic library](https://github.com/MaartenGr/BERTopic) which was created by Maarten Grootendorst. In the corresponding repo one can find and in depth explanation how the pipeline works from embedding (SentenceTransformers), dimensionality reduction (UMAP & HDBSCAN) to cTF-IDF (classbased TF-IDF).\n",
        "\n",
        "\n",
        "Be aware:\n",
        "This unsupervised deep learning and machine learning algorithms needs at least several hundred documents! With only a few documents the algorithm does not perform well and even runs into algorithm restrictions resulting from to low dimensionality of representations in the pipeline. "
      ]
    },
    {
      "cell_type": "code",
      "execution_count": 2,
      "metadata": {},
      "outputs": [],
      "source": [
        "from jouresearch_nlp.topicmodelling.representation import generate_topics\n",
        "import json"
      ]
    },
    {
      "cell_type": "code",
      "execution_count": 3,
      "metadata": {},
      "outputs": [
        {
          "data": {
            "text/plain": [
              "Topics(topics=[Topic(x=32, y=3, label='0', words=[Word(word='justwatch', freq=0.057380443490212936), Word(word='abo', freq=0.05077165427893017), Word(word='lassen', freq=0.035512190655689634)], size=48), Topic(x=26, y=6, label='1', words=[Word(word='neonazi', freq=0.10599023057236598), Word(word='brian', freq=0.07875799615576021), Word(word='matthias', freq=0.07875799615576021)], size=21), Topic(x=24, y=5, label='2', words=[Word(word='novelle', freq=0.07756469318370325), Word(word='ampel', freq=0.07756469318370325), Word(word='einrichtungen', freq=0.07756469318370325)], size=12), Topic(x=32, y=3, label='3', words=[Word(word='ups', freq=0.19689499038940053), Word(word='', freq=1e-05), Word(word='gedrückt', freq=0.1159432968474113)], size=12), Topic(x=32, y=2, label='4', words=[Word(word='baumann', freq=0.2659875633558259), Word(word='beate', freq=0.2659875633558259), Word(word='wichtigsten', freq=0.2659875633558259)], size=12)])"
            ]
          },
          "execution_count": 3,
          "metadata": {},
          "output_type": "execute_result"
        }
      ],
      "source": [
        "with open(\"../data/examples/topics_text.json\", encoding='utf-8') as file:\n",
        "    data = json.load(file)\n",
        "\n",
        "docs = data[\"docs\"] \n",
        "\n",
        "# The storing and loading of models is supported.\n",
        "# When you want to store a model, simply enter provide a path to model_out_path.\n",
        "# Next time you want to load this model, provide the path to model_in_path\n",
        "generate_topics(docs=docs, top_n_words=3, mode=\"quality\", model_in_path=\"../models/test_model\")\n"
      ]
    },
    {
      "cell_type": "markdown",
      "metadata": {},
      "source": []
    }
  ],
  "metadata": {
    "kernelspec": {
      "display_name": "Python 3",
      "language": "python",
      "name": "python3"
    },
    "language_info": {
      "codemirror_mode": {
        "name": "ipython",
        "version": 3
      },
      "file_extension": ".py",
      "mimetype": "text/x-python",
      "name": "python",
      "nbconvert_exporter": "python",
      "pygments_lexer": "ipython3",
      "version": "3.8.10"
    }
  },
  "nbformat": 4,
  "nbformat_minor": 0
}
